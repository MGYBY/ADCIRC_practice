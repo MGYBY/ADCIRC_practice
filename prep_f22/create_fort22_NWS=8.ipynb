{
 "cells": [
  {
   "cell_type": "code",
   "execution_count": 7,
   "id": "c51ebca6",
   "metadata": {},
   "outputs": [],
   "source": [
    "import numpy as np\n",
    "import pandas as pd"
   ]
  },
  {
   "cell_type": "code",
   "execution_count": 8,
   "id": "fd38dd0c",
   "metadata": {},
   "outputs": [],
   "source": [
    "# use fixed pressure\n",
    "p_c = 975.0\n",
    "# calculate maximum hurricane radius\n",
    "rmax = 1119.0*(1010.0-p_c)**(-0.805)\n",
    "# maximum wind speed (in Knots)\n",
    "vmax = 68.0\n",
    "# hurricane's path\n",
    "lat_val = 43.50*np.ones(5)\n",
    "lon_val=np.linspace(-79.6, -76.1, num=5)"
   ]
  },
  {
   "cell_type": "code",
   "execution_count": 9,
   "id": "aa22ebb2",
   "metadata": {},
   "outputs": [],
   "source": [
    "save_file = r'./fort.22'\n",
    "note = open(save_file, mode='w')"
   ]
  },
  {
   "cell_type": "code",
   "execution_count": 10,
   "id": "aaba6b9f",
   "metadata": {},
   "outputs": [
    {
     "name": "stderr",
     "output_type": "stream",
     "text": [
      "/tmp/ipykernel_24615/2273091649.py:3: FutureWarning: DatetimeIndex.format is deprecated and will be removed in a future version. Convert using index.astype(str) or index.map(formatter) instead.\n",
      "  date_range = date_range.format(formatter=lambda x: x.strftime('%Y%m%d%T'))\n"
     ]
    },
    {
     "data": {
      "text/plain": [
       "['2024122200', '2024122300', '2024122400', '2024122500', '2024122600']"
      ]
     },
     "execution_count": 10,
     "metadata": {},
     "output_type": "execute_result"
    }
   ],
   "source": [
    "# duration date: UTC 2024-12-22 00:00 to 2024-12-26 00:00\n",
    "date_range = pd.date_range(start='2024-12-22 00:00:00', end='2024-12-26 00:00:00', freq='D')\n",
    "date_range = date_range.format(formatter=lambda x: x.strftime('%Y%m%d%T'))\n",
    "for item in range(len(date_range)):\n",
    "    str1=date_range[item]\n",
    "    date_range[item]=str1[0:10]\n",
    "\n",
    "date_range"
   ]
  },
  {
   "cell_type": "code",
   "execution_count": 11,
   "id": "99c81f6e",
   "metadata": {},
   "outputs": [],
   "source": [
    "for itime in range(len(date_range)):\n",
    "    note.write('        '+str(date_range[itime])+',   , '+'BEST,'+'   0, '+\"{:,.0f}\".format(10*np.abs(lat_val[itime]))+'N'+',  '+\"{:,.0f}\".format(10*np.abs(lon_val[itime]))+'W'+',  '+str(int(vmax))+',  '+str(int(p_c))+'                                               400'+',  '+str(int(rmax))+'\\n')\n",
    "note.close()"
   ]
  },
  {
   "cell_type": "code",
   "execution_count": null,
   "id": "d6fe0e66",
   "metadata": {},
   "outputs": [],
   "source": []
  }
 ],
 "metadata": {
  "kernelspec": {
   "display_name": "Python 3 (ipykernel)",
   "language": "python",
   "name": "python3"
  },
  "language_info": {
   "codemirror_mode": {
    "name": "ipython",
    "version": 3
   },
   "file_extension": ".py",
   "mimetype": "text/x-python",
   "name": "python",
   "nbconvert_exporter": "python",
   "pygments_lexer": "ipython3",
   "version": "3.10.12"
  }
 },
 "nbformat": 4,
 "nbformat_minor": 5
}
