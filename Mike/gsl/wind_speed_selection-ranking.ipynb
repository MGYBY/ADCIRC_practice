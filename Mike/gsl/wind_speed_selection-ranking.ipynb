{
 "cells": [
  {
   "cell_type": "code",
   "execution_count": 56,
   "id": "8b2808d8",
   "metadata": {},
   "outputs": [],
   "source": [
    "import xarray as xr\n",
    "import numpy as np\n",
    "import pandas as pd"
   ]
  },
  {
   "cell_type": "code",
   "execution_count": 57,
   "id": "67363e70",
   "metadata": {},
   "outputs": [
    {
     "name": "stderr",
     "output_type": "stream",
     "text": [
      "<>:2: SyntaxWarning: invalid escape sequence '\\s'\n",
      "<>:2: SyntaxWarning: invalid escape sequence '\\s'\n",
      "C:\\Users\\byy\\AppData\\Local\\Temp\\ipykernel_7088\\576389969.py:2: SyntaxWarning: invalid escape sequence '\\s'\n",
      "  ws = pd.read_csv(filename, header=None, sep='\\s+', skiprows=3)\n"
     ]
    }
   ],
   "source": [
    "filename = r'./vMag_ave_series.csv'\n",
    "ws = pd.read_csv(filename, header=None, sep='\\s+', skiprows=3)\n",
    "ws.columns = ['Date', 'Hour', 'vAve']"
   ]
  },
  {
   "cell_type": "code",
   "execution_count": 58,
   "id": "b6214bad",
   "metadata": {},
   "outputs": [
    {
     "data": {
      "text/html": [
       "<div>\n",
       "<style scoped>\n",
       "    .dataframe tbody tr th:only-of-type {\n",
       "        vertical-align: middle;\n",
       "    }\n",
       "\n",
       "    .dataframe tbody tr th {\n",
       "        vertical-align: top;\n",
       "    }\n",
       "\n",
       "    .dataframe thead th {\n",
       "        text-align: right;\n",
       "    }\n",
       "</style>\n",
       "<table border=\"1\" class=\"dataframe\">\n",
       "  <thead>\n",
       "    <tr style=\"text-align: right;\">\n",
       "      <th></th>\n",
       "      <th>Date</th>\n",
       "      <th>Hour</th>\n",
       "      <th>vAve</th>\n",
       "    </tr>\n",
       "  </thead>\n",
       "  <tbody>\n",
       "    <tr>\n",
       "      <th>0</th>\n",
       "      <td>1990-01-01</td>\n",
       "      <td>00:00:00</td>\n",
       "      <td>4.176480</td>\n",
       "    </tr>\n",
       "    <tr>\n",
       "      <th>1</th>\n",
       "      <td>1990-01-01</td>\n",
       "      <td>01:00:00</td>\n",
       "      <td>4.317421</td>\n",
       "    </tr>\n",
       "    <tr>\n",
       "      <th>2</th>\n",
       "      <td>1990-01-01</td>\n",
       "      <td>02:00:00</td>\n",
       "      <td>4.597233</td>\n",
       "    </tr>\n",
       "    <tr>\n",
       "      <th>3</th>\n",
       "      <td>1990-01-01</td>\n",
       "      <td>03:00:00</td>\n",
       "      <td>4.769087</td>\n",
       "    </tr>\n",
       "    <tr>\n",
       "      <th>4</th>\n",
       "      <td>1990-01-01</td>\n",
       "      <td>04:00:00</td>\n",
       "      <td>4.749173</td>\n",
       "    </tr>\n",
       "    <tr>\n",
       "      <th>...</th>\n",
       "      <td>...</td>\n",
       "      <td>...</td>\n",
       "      <td>...</td>\n",
       "    </tr>\n",
       "    <tr>\n",
       "      <th>306792</th>\n",
       "      <td>2024-12-31</td>\n",
       "      <td>00:00:00</td>\n",
       "      <td>5.786358</td>\n",
       "    </tr>\n",
       "    <tr>\n",
       "      <th>306793</th>\n",
       "      <td>2024-12-31</td>\n",
       "      <td>01:00:00</td>\n",
       "      <td>5.851212</td>\n",
       "    </tr>\n",
       "    <tr>\n",
       "      <th>306794</th>\n",
       "      <td>2024-12-31</td>\n",
       "      <td>02:00:00</td>\n",
       "      <td>5.814860</td>\n",
       "    </tr>\n",
       "    <tr>\n",
       "      <th>306795</th>\n",
       "      <td>2024-12-31</td>\n",
       "      <td>03:00:00</td>\n",
       "      <td>5.828550</td>\n",
       "    </tr>\n",
       "    <tr>\n",
       "      <th>306796</th>\n",
       "      <td>2024-12-3</td>\n",
       "      <td>NaN</td>\n",
       "      <td>NaN</td>\n",
       "    </tr>\n",
       "  </tbody>\n",
       "</table>\n",
       "<p>306797 rows × 3 columns</p>\n",
       "</div>"
      ],
      "text/plain": [
       "              Date      Hour      vAve\n",
       "0       1990-01-01  00:00:00  4.176480\n",
       "1       1990-01-01  01:00:00  4.317421\n",
       "2       1990-01-01  02:00:00  4.597233\n",
       "3       1990-01-01  03:00:00  4.769087\n",
       "4       1990-01-01  04:00:00  4.749173\n",
       "...            ...       ...       ...\n",
       "306792  2024-12-31  00:00:00  5.786358\n",
       "306793  2024-12-31  01:00:00  5.851212\n",
       "306794  2024-12-31  02:00:00  5.814860\n",
       "306795  2024-12-31  03:00:00  5.828550\n",
       "306796   2024-12-3       NaN       NaN\n",
       "\n",
       "[306797 rows x 3 columns]"
      ]
     },
     "execution_count": 58,
     "metadata": {},
     "output_type": "execute_result"
    }
   ],
   "source": [
    "ws"
   ]
  },
  {
   "cell_type": "code",
   "execution_count": 59,
   "id": "f06c6044",
   "metadata": {},
   "outputs": [],
   "source": [
    "time_stamps = pd.date_range(start='1990-01-01 00:00:00', end='2024-12-31 03:00:00', freq=\"1h\")"
   ]
  },
  {
   "cell_type": "code",
   "execution_count": 60,
   "id": "913a27a2",
   "metadata": {},
   "outputs": [
    {
     "name": "stdout",
     "output_type": "stream",
     "text": [
      "306797\n",
      "306796\n"
     ]
    }
   ],
   "source": [
    "print(len(ws[\"vAve\"]))\n",
    "print(len(time_stamps))"
   ]
  },
  {
   "cell_type": "code",
   "execution_count": null,
   "id": "034341ec",
   "metadata": {},
   "outputs": [],
   "source": [
    "ws_arr = ws[\"vAve\"]\n",
    "\n",
    "save_file = './select_winds.txt'\n",
    "with open(save_file, \"a\") as f:\n",
    "    for itime in range(len(ws[\"vAve\"])-1):\n",
    "        if (time_stamps[itime].month<=11 and time_stamps[itime].month>=6):\n",
    "            year = time_stamps[itime].year\n",
    "            month = time_stamps[itime].month\n",
    "            day = time_stamps[itime].day\n",
    "            if (pd.Timestamp(year, month, day)>=pd.Timestamp(year, 6, 15, 0)):\n",
    "                f.write('%s %g\\n' % (str(time_stamps[itime]), ws_arr[itime]))\n"
   ]
  },
  {
   "cell_type": "markdown",
   "id": "6226e47d",
   "metadata": {},
   "source": [
    "## Top 10 events for each of the 6 SOM patterns"
   ]
  },
  {
   "cell_type": "code",
   "execution_count": null,
   "id": "fe614794",
   "metadata": {},
   "outputs": [
    {
     "name": "stderr",
     "output_type": "stream",
     "text": [
      "<>:2: SyntaxWarning: invalid escape sequence '\\s'\n",
      "<>:2: SyntaxWarning: invalid escape sequence '\\s'\n",
      "C:\\Users\\byy\\AppData\\Local\\Temp\\ipykernel_7088\\3321200123.py:2: SyntaxWarning: invalid escape sequence '\\s'\n",
      "  ws_s = pd.read_csv(filename, header=None, sep='\\s+')\n"
     ]
    }
   ],
   "source": [
    "filename = r'./select_winds_descending.txt'\n",
    "ws_s = pd.read_csv(filename, header=None, sep='\\s+')\n",
    "ws_s.columns = ['Date', 'Hour', 'vAve']"
   ]
  },
  {
   "cell_type": "code",
   "execution_count": null,
   "id": "72ae1cc1",
   "metadata": {},
   "outputs": [
    {
     "data": {
      "text/plain": [
       "141960"
      ]
     },
     "execution_count": 20,
     "metadata": {},
     "output_type": "execute_result"
    }
   ],
   "source": [
    "len(ws_s[\"Date\"])"
   ]
  },
  {
   "cell_type": "code",
   "execution_count": null,
   "id": "ea47f4a9",
   "metadata": {},
   "outputs": [
    {
     "name": "stderr",
     "output_type": "stream",
     "text": [
      "C:\\Users\\byy\\AppData\\Local\\Temp\\ipykernel_7088\\2201914866.py:2: FutureWarning: The argument 'date_parser' is deprecated and will be removed in a future version. Please use 'date_format' instead, or read your data in as 'object' dtype and then call 'to_datetime'.\n",
      "  som = pd.read_csv(filename, header=None, sep=',', date_parser =pd.to_datetime, skiprows=1)\n"
     ]
    }
   ],
   "source": [
    "filename = r'./Dates_JJASON_ssim_Node_06_timeseries.csv'\n",
    "som = pd.read_csv(filename, header=None, sep=',', date_parser =pd.to_datetime, skiprows=1)\n",
    "som.columns = ['Date', 'Nodes']"
   ]
  },
  {
   "cell_type": "code",
   "execution_count": 67,
   "id": "d72dd9cb",
   "metadata": {},
   "outputs": [],
   "source": [
    "# first storm for each nodes\n",
    "save_file = './first_storm.txt'\n",
    "ws_s_date = ws_s['Date']\n",
    "ws_s_hour = ws_s['Hour']\n",
    "ws_s_vave = ws_s['vAve']\n",
    "som_date = som['Date']\n",
    "som_nodes = som['Nodes'] \n",
    "\n",
    "node_1_top_date = []\n",
    "node_1_top_ws = []\n",
    "pattern_count = 0\n",
    "top_num = 10\n",
    "\n",
    "# node 1\n",
    "for item in range(len(ws_s_date)):\n",
    "    if (pattern_count>=top_num):\n",
    "            break\n",
    "    for table_item in range(len(som_date)):\n",
    "        if (pd.to_datetime(ws_s_date[item]) == pd.to_datetime(som_date[table_item])):\n",
    "            if (np.int32(som_nodes[table_item])==1):\n",
    "                node_1_top_date = np.append(node_1_top_date, ws_s_date[item])\n",
    "                node_1_top_ws = np.append(node_1_top_ws, ws_s_vave[item])\n",
    "                pattern_count += 1\n",
    "save_file = './node-1_tops.txt'\n",
    "with open(save_file, \"a\") as f:\n",
    "    for item in range(len(node_1_top_date)):\n",
    "        f.write('%s %g\\n' % (str(node_1_top_date[item]), node_1_top_ws[item]))\n",
    "f.close()"
   ]
  },
  {
   "cell_type": "code",
   "execution_count": null,
   "id": "dd59d5b0",
   "metadata": {},
   "outputs": [],
   "source": [
    "# node 2\n",
    "node_2_top_date = []\n",
    "node_2_top_ws = []\n",
    "pattern_count = 0\n",
    "top_num = 10\n",
    "\n",
    "# node 2\n",
    "for item in range(len(ws_s_date)):\n",
    "    if (pattern_count>=top_num):\n",
    "            break\n",
    "    for table_item in range(len(som_date)):\n",
    "        if (pd.to_datetime(ws_s_date[item]) == pd.to_datetime(som_date[table_item])):\n",
    "            if (np.int32(som_nodes[table_item])==2):\n",
    "                node_2_top_date = np.append(node_2_top_date, ws_s_date[item])\n",
    "                node_2_top_ws = np.append(node_2_top_ws, ws_s_vave[item])\n",
    "                pattern_count += 1\n",
    "save_file = './node-2_tops.txt'\n",
    "with open(save_file, \"a\") as f:\n",
    "    for item in range(len(node_2_top_date)):\n",
    "        f.write('%s %g\\n' % (str(node_2_top_date[item]), node_2_top_ws[item]))\n",
    "f.close()"
   ]
  },
  {
   "cell_type": "code",
   "execution_count": null,
   "id": "ef278355",
   "metadata": {},
   "outputs": [],
   "source": [
    "# node 3\n",
    "node_3_top_date = []\n",
    "node_3_top_ws = []\n",
    "pattern_count = 0\n",
    "top_num = 10\n",
    "\n",
    "for item in range(len(ws_s_date)):\n",
    "    if (pattern_count>=top_num):\n",
    "            break\n",
    "    for table_item in range(len(som_date)):\n",
    "        if (pd.to_datetime(ws_s_date[item]) == pd.to_datetime(som_date[table_item])):\n",
    "            if (np.int32(som_nodes[table_item])==3):\n",
    "                node_3_top_date = np.append(node_3_top_date, ws_s_date[item])\n",
    "                node_3_top_ws = np.append(node_3_top_ws, ws_s_vave[item])\n",
    "                pattern_count += 1\n",
    "save_file = './node-3_tops.txt'\n",
    "with open(save_file, \"a\") as f:\n",
    "    for item in range(len(node_3_top_date)):\n",
    "        f.write('%s %g\\n' % (str(node_3_top_date[item]), node_3_top_ws[item]))\n",
    "f.close()"
   ]
  },
  {
   "cell_type": "code",
   "execution_count": 66,
   "id": "e5900c6e",
   "metadata": {},
   "outputs": [
    {
     "data": {
      "text/plain": [
       "'2000-09-15'"
      ]
     },
     "execution_count": 66,
     "metadata": {},
     "output_type": "execute_result"
    }
   ],
   "source": [
    "node_1_top_date[0]"
   ]
  },
  {
   "cell_type": "code",
   "execution_count": null,
   "id": "6e2f659c",
   "metadata": {},
   "outputs": [
    {
     "data": {
      "text/plain": [
       "0             Date\n",
       "1       1990-06-01\n",
       "2       1990-06-02\n",
       "3       1990-06-03\n",
       "4       1990-06-04\n",
       "           ...    \n",
       "5669    2020-11-26\n",
       "5670    2020-11-27\n",
       "5671    2020-11-28\n",
       "5672    2020-11-29\n",
       "5673    2020-11-30\n",
       "Name: Date, Length: 5674, dtype: object"
      ]
     },
     "execution_count": 27,
     "metadata": {},
     "output_type": "execute_result"
    }
   ],
   "source": [
    "som_date"
   ]
  },
  {
   "cell_type": "code",
   "execution_count": null,
   "id": "34186b14",
   "metadata": {},
   "outputs": [
    {
     "data": {
      "text/plain": [
       "'Date'"
      ]
     },
     "execution_count": 31,
     "metadata": {},
     "output_type": "execute_result"
    }
   ],
   "source": [
    "som_date[0]"
   ]
  },
  {
   "cell_type": "code",
   "execution_count": null,
   "id": "d06320ab",
   "metadata": {},
   "outputs": [
    {
     "data": {
      "text/plain": [
       "Timestamp('1990-06-01 00:00:00')"
      ]
     },
     "execution_count": 35,
     "metadata": {},
     "output_type": "execute_result"
    }
   ],
   "source": [
    "pd.to_datetime(som_date[0])"
   ]
  },
  {
   "cell_type": "code",
   "execution_count": null,
   "id": "25486b2e",
   "metadata": {},
   "outputs": [
    {
     "data": {
      "text/plain": [
       "1"
      ]
     },
     "execution_count": 41,
     "metadata": {},
     "output_type": "execute_result"
    }
   ],
   "source": [
    "pd.to_datetime(som_date[0]).day"
   ]
  },
  {
   "cell_type": "code",
   "execution_count": null,
   "id": "b7f093d1",
   "metadata": {},
   "outputs": [
    {
     "data": {
      "text/plain": [
       "0       4\n",
       "1       3\n",
       "2       2\n",
       "3       6\n",
       "4       5\n",
       "       ..\n",
       "5668    1\n",
       "5669    1\n",
       "5670    5\n",
       "5671    1\n",
       "5672    2\n",
       "Name: Nodes, Length: 5673, dtype: int64"
      ]
     },
     "execution_count": 37,
     "metadata": {},
     "output_type": "execute_result"
    }
   ],
   "source": [
    "som_nodes"
   ]
  },
  {
   "cell_type": "code",
   "execution_count": null,
   "id": "dae6a835",
   "metadata": {},
   "outputs": [],
   "source": []
  }
 ],
 "metadata": {
  "kernelspec": {
   "display_name": "base",
   "language": "python",
   "name": "python3"
  },
  "language_info": {
   "codemirror_mode": {
    "name": "ipython",
    "version": 3
   },
   "file_extension": ".py",
   "mimetype": "text/x-python",
   "name": "python",
   "nbconvert_exporter": "python",
   "pygments_lexer": "ipython3",
   "version": "3.12.7"
  }
 },
 "nbformat": 4,
 "nbformat_minor": 5
}
