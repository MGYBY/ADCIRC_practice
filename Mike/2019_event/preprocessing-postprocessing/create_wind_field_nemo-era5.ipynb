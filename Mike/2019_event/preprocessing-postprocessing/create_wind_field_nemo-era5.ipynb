{
 "cells": [
  {
   "cell_type": "code",
   "execution_count": 1,
   "metadata": {},
   "outputs": [],
   "source": [
    "import xarray as xr\n",
    "import numpy as np\n",
    "import pandas as pd"
   ]
  },
  {
   "cell_type": "code",
   "execution_count": 2,
   "metadata": {},
   "outputs": [],
   "source": [
    "wind_x = xr.open_dataset(r'./seldate_UU.nc')\n",
    "wind_y = xr.open_dataset(r'./seldate_VV.nc')\n",
    "# wind_x"
   ]
  },
  {
   "cell_type": "code",
   "execution_count": 24,
   "metadata": {},
   "outputs": [
    {
     "data": {
      "text/plain": [
       "2921"
      ]
     },
     "execution_count": 24,
     "metadata": {},
     "output_type": "execute_result"
    }
   ],
   "source": [
    "# time_count = len(wind_x.time)\n",
    "# time_count\n",
    "len(wind_x.time)"
   ]
  },
  {
   "cell_type": "code",
   "execution_count": 3,
   "metadata": {},
   "outputs": [],
   "source": [
    "time_range = pd.date_range(\"2015-11-01 00\", \"2015-11-08 00\", freq=\"3h\")\n",
    "len(time_range)\n",
    "time_count = len(time_range)"
   ]
  },
  {
   "cell_type": "code",
   "execution_count": 4,
   "metadata": {},
   "outputs": [
    {
     "data": {
      "text/plain": [
       "(18, 41)"
      ]
     },
     "execution_count": 4,
     "metadata": {},
     "output_type": "execute_result"
    }
   ],
   "source": [
    "uu_data =  wind_x.UU.sel(time=time_range[0], method='nearest')\n",
    "np.shape(uu_data)"
   ]
  },
  {
   "cell_type": "code",
   "execution_count": 11,
   "metadata": {},
   "outputs": [
    {
     "name": "stdout",
     "output_type": "stream",
     "text": [
      "Time: 2015-11-01 00:00:00\n",
      "Time: 2015-11-01 03:00:00\n",
      "Time: 2015-11-01 06:00:00\n",
      "Time: 2015-11-01 09:00:00\n",
      "Time: 2015-11-01 12:00:00\n",
      "Time: 2015-11-01 15:00:00\n",
      "Time: 2015-11-01 18:00:00\n",
      "Time: 2015-11-01 21:00:00\n",
      "Time: 2015-11-02 00:00:00\n",
      "Time: 2015-11-02 03:00:00\n",
      "Time: 2015-11-02 06:00:00\n",
      "Time: 2015-11-02 09:00:00\n",
      "Time: 2015-11-02 12:00:00\n",
      "Time: 2015-11-02 15:00:00\n",
      "Time: 2015-11-02 18:00:00\n",
      "Time: 2015-11-02 21:00:00\n",
      "Time: 2015-11-03 00:00:00\n",
      "Time: 2015-11-03 03:00:00\n",
      "Time: 2015-11-03 06:00:00\n",
      "Time: 2015-11-03 09:00:00\n",
      "Time: 2015-11-03 12:00:00\n",
      "Time: 2015-11-03 15:00:00\n",
      "Time: 2015-11-03 18:00:00\n",
      "Time: 2015-11-03 21:00:00\n",
      "Time: 2015-11-04 00:00:00\n",
      "Time: 2015-11-04 03:00:00\n",
      "Time: 2015-11-04 06:00:00\n",
      "Time: 2015-11-04 09:00:00\n",
      "Time: 2015-11-04 12:00:00\n",
      "Time: 2015-11-04 15:00:00\n",
      "Time: 2015-11-04 18:00:00\n",
      "Time: 2015-11-04 21:00:00\n",
      "Time: 2015-11-05 00:00:00\n",
      "Time: 2015-11-05 03:00:00\n",
      "Time: 2015-11-05 06:00:00\n",
      "Time: 2015-11-05 09:00:00\n",
      "Time: 2015-11-05 12:00:00\n",
      "Time: 2015-11-05 15:00:00\n",
      "Time: 2015-11-05 18:00:00\n",
      "Time: 2015-11-05 21:00:00\n",
      "Time: 2015-11-06 00:00:00\n",
      "Time: 2015-11-06 03:00:00\n",
      "Time: 2015-11-06 06:00:00\n",
      "Time: 2015-11-06 09:00:00\n",
      "Time: 2015-11-06 12:00:00\n",
      "Time: 2015-11-06 15:00:00\n",
      "Time: 2015-11-06 18:00:00\n",
      "Time: 2015-11-06 21:00:00\n",
      "Time: 2015-11-07 00:00:00\n",
      "Time: 2015-11-07 03:00:00\n",
      "Time: 2015-11-07 06:00:00\n",
      "Time: 2015-11-07 09:00:00\n",
      "Time: 2015-11-07 12:00:00\n",
      "Time: 2015-11-07 15:00:00\n",
      "Time: 2015-11-07 18:00:00\n",
      "Time: 2015-11-07 21:00:00\n",
      "Time: 2015-11-08 00:00:00\n"
     ]
    }
   ],
   "source": [
    "import os\n",
    "# os.system(\"rm -rf ./wind_field.txt\") # in Linux\n",
    "# os. remove(\"./wind_field.txt\") # in Windows\n",
    "save_file = './wind_field.txt'\n",
    "\n",
    "lon_count = 41\n",
    "lat_count = 18\n",
    "lon_llc = -79.94\n",
    "lat_llc = 42.89\n",
    "lon_urc = -75.87\n",
    "lat_urc = 44.59\n",
    "delta_lon = (lon_urc-lon_llc)/(lon_count-1)\n",
    "delta_lat = (lat_urc-lat_llc)/(lat_count-1)\n",
    "\n",
    "# write the header first\n",
    "with open(save_file, \"a\") as f:\n",
    "    f.write('\"Title\" \"File Title\"')\n",
    "    f.write('\\n')\n",
    "    f.write('\"Dim\" 2')\n",
    "    f.write('\\n')\n",
    "    f.write('\"Geo\" \"LONG/LAT\" %g %g 0'% ((lon_llc), (lat_llc)))\n",
    "    f.write('\\n')\n",
    "    f.write('\"Time\" \"EqudistantTimeAxis\" \"2015-01-01\" \"00:00:00\" 2921 10800') # need to modify here for time\n",
    "    f.write('\\n')\n",
    "    f.write('\"NoGridPoints\" %s %s'% (str(lon_count), str(lat_count)))\n",
    "    f.write('\\n')\n",
    "    f.write('\"Spacing\" %g %g'%(delta_lon, delta_lat))\n",
    "    f.write('\\n')\n",
    "    f.write('\"NoStaticItems\" 0')\n",
    "    f.write('\\n')\n",
    "    f.write('\"NoDynamicItems\" 2') # need to modify here for items\n",
    "    f.write('\\n')\n",
    "    f.write('\"Item\" \"U-wind\" \"Wind Velocity\" \"m/s\"')\n",
    "    f.write('\\n')\n",
    "    f.write('\"Item\" \"V-wind\" \"Wind Velocity\" \"m/s\"')\n",
    "    f.write('\\n')\n",
    "    f.write('NoCustomBlocks 1')\n",
    "    f.write('\\n')\n",
    "    f.write('\"M21_Misc\" 1 7 0 -1E-030 -900 -999 -1E-030 -1E-030 -1E-030')\n",
    "    f.write('\\n')\n",
    "    f.write('\"Delete\" -1E-030')\n",
    "    f.write('\\n')\n",
    "    f.write('\"DataType\" 0')\n",
    "    f.write('\\n')\n",
    "    f.write('\\n')\n",
    "\n",
    "with open(save_file, \"a\") as f:\n",
    "    # no \"preamber\" for now\n",
    "    # loop over the layers\n",
    "    for itime in range(time_count):\n",
    "        output_tot = np.zeros((1, lon_count))\n",
    "        uu_data =  wind_x.UU.sel(time=time_range[itime], method='nearest')\n",
    "        vv_data =  wind_y.VV.sel(time=time_range[itime], method='nearest')\n",
    "        # uu_data = np.reshape(uu_data, (lat_count, lon_count))\n",
    "        f.write('\"tstep\" %s \"item\" 1 \"layer\" 0 \\n'%str(np.int64(itime)))\n",
    "        # item 1\n",
    "        for j in range(lat_count):\n",
    "            for k in range(lon_count):\n",
    "                output_tot[:, k] = uu_data[(lat_count-j-1), k]\n",
    "            # output_tot = np.transpose(output_tot)\n",
    "            np.savetxt(f, output_tot, fmt='%g')\n",
    "        f.write('\\n')\n",
    "        # item 2\n",
    "        f.write('\"tstep\" %s \"item\" 2 \"layer\" 0 \\n'%str(np.int64(itime)))\n",
    "        for j in range(lat_count):\n",
    "            for k in range(lon_count):\n",
    "                output_tot[:, k] = vv_data[(lat_count-j-1), k]\n",
    "            np.savetxt(f, output_tot, fmt='%g')\n",
    "        f.write('\\n')\n",
    "        print('Time'+': '+str(time_range[itime]))\n",
    "\n",
    "f.close()"
   ]
  },
  {
   "cell_type": "code",
   "execution_count": null,
   "metadata": {},
   "outputs": [],
   "source": []
  }
 ],
 "metadata": {
  "kernelspec": {
   "display_name": "base",
   "language": "python",
   "name": "python3"
  },
  "language_info": {
   "codemirror_mode": {
    "name": "ipython",
    "version": 3
   },
   "file_extension": ".py",
   "mimetype": "text/x-python",
   "name": "python",
   "nbconvert_exporter": "python",
   "pygments_lexer": "ipython3",
   "version": "3.12.7"
  }
 },
 "nbformat": 4,
 "nbformat_minor": 2
}
